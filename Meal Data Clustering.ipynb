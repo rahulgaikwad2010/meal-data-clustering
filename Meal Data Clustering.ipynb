{
 "cells": [
  {
   "cell_type": "markdown",
   "metadata": {
    "papermill": {
     "duration": 0.04067,
     "end_time": "2020-11-21T07:13:24.786918",
     "exception": false,
     "start_time": "2020-11-21T07:13:24.746248",
     "status": "completed"
    },
    "tags": []
   },
   "source": [
    "## 1. Import necessary libraries"
   ]
  },
  {
   "cell_type": "code",
   "execution_count": 1,
   "metadata": {
    "execution": {
     "iopub.execute_input": "2020-11-21T07:13:24.886372Z",
     "iopub.status.busy": "2020-11-21T07:13:24.885494Z",
     "iopub.status.idle": "2020-11-21T07:13:26.332034Z",
     "shell.execute_reply": "2020-11-21T07:13:26.332613Z"
    },
    "papermill": {
     "duration": 1.506653,
     "end_time": "2020-11-21T07:13:26.332844",
     "exception": false,
     "start_time": "2020-11-21T07:13:24.826191",
     "status": "completed"
    },
    "tags": []
   },
   "outputs": [],
   "source": [
    "# Data representation and computation\n",
    "import pandas as pd  \n",
    "import numpy as np  \n",
    "pd.options.display.float_format = '{:20,.4f}'.format\n",
    "\n",
    "# Graph plotting\n",
    "import matplotlib.pyplot as plt  \n",
    "import seaborn as sns\n",
    "\n",
    "# Data splitting, feature engg., and pipeline to train machine learning models\n",
    "from sklearn.preprocessing import StandardScaler\n",
    "from sklearn.metrics import cluster, silhouette_score, v_measure_score, adjusted_rand_score, completeness_score\n",
    "\n",
    "# Machine learning models\n",
    "from sklearn.cluster import KMeans\n",
    "from sklearn.cluster import DBSCAN\n",
    "\n",
    "# Miscellaneous\n",
    "import warnings\n",
    "from math import log, e, ceil\n",
    "from scipy.stats import entropy\n",
    "from prettytable import PrettyTable\n",
    "\n",
    "# Declaration\n",
    "warnings.filterwarnings('ignore')\n",
    "%precision 2\n",
    "%matplotlib inline\n",
    "sns.set(font_scale=1)"
   ]
  },
  {
   "cell_type": "markdown",
   "metadata": {
    "papermill": {
     "duration": 0.039985,
     "end_time": "2020-11-21T07:13:26.413046",
     "exception": false,
     "start_time": "2020-11-21T07:13:26.373061",
     "status": "completed"
    },
    "tags": []
   },
   "source": [
    "<br><hr/>"
   ]
  },
  {
   "cell_type": "markdown",
   "metadata": {
    "papermill": {
     "duration": 0.038751,
     "end_time": "2020-11-21T07:13:26.490912",
     "exception": false,
     "start_time": "2020-11-21T07:13:26.452161",
     "status": "completed"
    },
    "tags": []
   },
   "source": [
    "## 2. Load Data"
   ]
  },
  {
   "cell_type": "code",
   "execution_count": 2,
   "metadata": {
    "execution": {
     "iopub.execute_input": "2020-11-21T07:13:26.576073Z",
     "iopub.status.busy": "2020-11-21T07:13:26.575207Z",
     "iopub.status.idle": "2020-11-21T07:13:26.858685Z",
     "shell.execute_reply": "2020-11-21T07:13:26.857945Z"
    },
    "papermill": {
     "duration": 0.328708,
     "end_time": "2020-11-21T07:13:26.858819",
     "exception": false,
     "start_time": "2020-11-21T07:13:26.530111",
     "status": "completed"
    },
    "tags": []
   },
   "outputs": [
    {
     "data": {
      "text/html": [
       "<div>\n",
       "<style scoped>\n",
       "    .dataframe tbody tr th:only-of-type {\n",
       "        vertical-align: middle;\n",
       "    }\n",
       "\n",
       "    .dataframe tbody tr th {\n",
       "        vertical-align: top;\n",
       "    }\n",
       "\n",
       "    .dataframe thead th {\n",
       "        text-align: right;\n",
       "    }\n",
       "</style>\n",
       "<table border=\"1\" class=\"dataframe\">\n",
       "  <thead>\n",
       "    <tr style=\"text-align: right;\">\n",
       "      <th></th>\n",
       "      <th>Index</th>\n",
       "      <th>Date</th>\n",
       "      <th>Time</th>\n",
       "      <th>New Device Time</th>\n",
       "      <th>BG Reading (mg/dL)</th>\n",
       "      <th>Linked BG Meter ID</th>\n",
       "      <th>Basal Rate (U/h)</th>\n",
       "      <th>Temp Basal Amount</th>\n",
       "      <th>Temp Basal Type</th>\n",
       "      <th>Temp Basal Duration (h:mm:ss)</th>\n",
       "      <th>...</th>\n",
       "      <th>Scroll Step Size</th>\n",
       "      <th>Insulin Action Curve Time</th>\n",
       "      <th>Sensor Calibration Rejected Reason</th>\n",
       "      <th>Preset Bolus</th>\n",
       "      <th>Bolus Source</th>\n",
       "      <th>Network Device Associated Reason</th>\n",
       "      <th>Network Device Disassociated Reason</th>\n",
       "      <th>Network Device Disconnected Reason</th>\n",
       "      <th>Sensor Exception</th>\n",
       "      <th>Preset Temp Basal Name</th>\n",
       "    </tr>\n",
       "  </thead>\n",
       "  <tbody>\n",
       "    <tr>\n",
       "      <th>0</th>\n",
       "      <td>0</td>\n",
       "      <td>2/12/2018</td>\n",
       "      <td>13:20:53</td>\n",
       "      <td>NaN</td>\n",
       "      <td>nan</td>\n",
       "      <td>nan</td>\n",
       "      <td>nan</td>\n",
       "      <td>nan</td>\n",
       "      <td>nan</td>\n",
       "      <td>nan</td>\n",
       "      <td>...</td>\n",
       "      <td>NaN</td>\n",
       "      <td>nan</td>\n",
       "      <td>NaN</td>\n",
       "      <td>nan</td>\n",
       "      <td>NaN</td>\n",
       "      <td>TEMPORARY</td>\n",
       "      <td>NaN</td>\n",
       "      <td>NaN</td>\n",
       "      <td>nan</td>\n",
       "      <td>nan</td>\n",
       "    </tr>\n",
       "    <tr>\n",
       "      <th>1</th>\n",
       "      <td>1</td>\n",
       "      <td>2/12/2018</td>\n",
       "      <td>13:20:48</td>\n",
       "      <td>NaN</td>\n",
       "      <td>nan</td>\n",
       "      <td>nan</td>\n",
       "      <td>nan</td>\n",
       "      <td>nan</td>\n",
       "      <td>nan</td>\n",
       "      <td>nan</td>\n",
       "      <td>...</td>\n",
       "      <td>NaN</td>\n",
       "      <td>nan</td>\n",
       "      <td>NaN</td>\n",
       "      <td>nan</td>\n",
       "      <td>NaN</td>\n",
       "      <td>NaN</td>\n",
       "      <td>NaN</td>\n",
       "      <td>NaN</td>\n",
       "      <td>nan</td>\n",
       "      <td>nan</td>\n",
       "    </tr>\n",
       "    <tr>\n",
       "      <th>2</th>\n",
       "      <td>2</td>\n",
       "      <td>2/12/2018</td>\n",
       "      <td>13:18:48</td>\n",
       "      <td>NaN</td>\n",
       "      <td>nan</td>\n",
       "      <td>nan</td>\n",
       "      <td>0.0000</td>\n",
       "      <td>nan</td>\n",
       "      <td>nan</td>\n",
       "      <td>nan</td>\n",
       "      <td>...</td>\n",
       "      <td>NaN</td>\n",
       "      <td>nan</td>\n",
       "      <td>NaN</td>\n",
       "      <td>nan</td>\n",
       "      <td>NaN</td>\n",
       "      <td>NaN</td>\n",
       "      <td>NaN</td>\n",
       "      <td>NaN</td>\n",
       "      <td>nan</td>\n",
       "      <td>nan</td>\n",
       "    </tr>\n",
       "    <tr>\n",
       "      <th>3</th>\n",
       "      <td>3</td>\n",
       "      <td>2/12/2018</td>\n",
       "      <td>13:18:48</td>\n",
       "      <td>NaN</td>\n",
       "      <td>nan</td>\n",
       "      <td>nan</td>\n",
       "      <td>nan</td>\n",
       "      <td>nan</td>\n",
       "      <td>nan</td>\n",
       "      <td>nan</td>\n",
       "      <td>...</td>\n",
       "      <td>NaN</td>\n",
       "      <td>nan</td>\n",
       "      <td>NaN</td>\n",
       "      <td>nan</td>\n",
       "      <td>NaN</td>\n",
       "      <td>NaN</td>\n",
       "      <td>NaN</td>\n",
       "      <td>NaN</td>\n",
       "      <td>nan</td>\n",
       "      <td>nan</td>\n",
       "    </tr>\n",
       "    <tr>\n",
       "      <th>4</th>\n",
       "      <td>4</td>\n",
       "      <td>2/12/2018</td>\n",
       "      <td>13:12:33</td>\n",
       "      <td>NaN</td>\n",
       "      <td>nan</td>\n",
       "      <td>nan</td>\n",
       "      <td>nan</td>\n",
       "      <td>nan</td>\n",
       "      <td>nan</td>\n",
       "      <td>nan</td>\n",
       "      <td>...</td>\n",
       "      <td>NaN</td>\n",
       "      <td>nan</td>\n",
       "      <td>NaN</td>\n",
       "      <td>nan</td>\n",
       "      <td>CLOSED_LOOP_MICRO_BOLUS</td>\n",
       "      <td>NaN</td>\n",
       "      <td>NaN</td>\n",
       "      <td>NaN</td>\n",
       "      <td>nan</td>\n",
       "      <td>nan</td>\n",
       "    </tr>\n",
       "  </tbody>\n",
       "</table>\n",
       "<p>5 rows × 47 columns</p>\n",
       "</div>"
      ],
      "text/plain": [
       "   Index       Date      Time New Device Time   BG Reading (mg/dL)  \\\n",
       "0      0  2/12/2018  13:20:53             NaN                  nan   \n",
       "1      1  2/12/2018  13:20:48             NaN                  nan   \n",
       "2      2  2/12/2018  13:18:48             NaN                  nan   \n",
       "3      3  2/12/2018  13:18:48             NaN                  nan   \n",
       "4      4  2/12/2018  13:12:33             NaN                  nan   \n",
       "\n",
       "    Linked BG Meter ID     Basal Rate (U/h)    Temp Basal Amount  \\\n",
       "0                  nan                  nan                  nan   \n",
       "1                  nan                  nan                  nan   \n",
       "2                  nan               0.0000                  nan   \n",
       "3                  nan                  nan                  nan   \n",
       "4                  nan                  nan                  nan   \n",
       "\n",
       "       Temp Basal Type  Temp Basal Duration (h:mm:ss)  ... Scroll Step Size  \\\n",
       "0                  nan                            nan  ...              NaN   \n",
       "1                  nan                            nan  ...              NaN   \n",
       "2                  nan                            nan  ...              NaN   \n",
       "3                  nan                            nan  ...              NaN   \n",
       "4                  nan                            nan  ...              NaN   \n",
       "\n",
       "   Insulin Action Curve Time  Sensor Calibration Rejected Reason  \\\n",
       "0                        nan                                 NaN   \n",
       "1                        nan                                 NaN   \n",
       "2                        nan                                 NaN   \n",
       "3                        nan                                 NaN   \n",
       "4                        nan                                 NaN   \n",
       "\n",
       "          Preset Bolus             Bolus Source  \\\n",
       "0                  nan                      NaN   \n",
       "1                  nan                      NaN   \n",
       "2                  nan                      NaN   \n",
       "3                  nan                      NaN   \n",
       "4                  nan  CLOSED_LOOP_MICRO_BOLUS   \n",
       "\n",
       "   Network Device Associated Reason Network Device Disassociated Reason  \\\n",
       "0                         TEMPORARY                                 NaN   \n",
       "1                               NaN                                 NaN   \n",
       "2                               NaN                                 NaN   \n",
       "3                               NaN                                 NaN   \n",
       "4                               NaN                                 NaN   \n",
       "\n",
       "  Network Device Disconnected Reason     Sensor Exception  \\\n",
       "0                                NaN                  nan   \n",
       "1                                NaN                  nan   \n",
       "2                                NaN                  nan   \n",
       "3                                NaN                  nan   \n",
       "4                                NaN                  nan   \n",
       "\n",
       "   Preset Temp Basal Name  \n",
       "0                     nan  \n",
       "1                     nan  \n",
       "2                     nan  \n",
       "3                     nan  \n",
       "4                     nan  \n",
       "\n",
       "[5 rows x 47 columns]"
      ]
     },
     "execution_count": 2,
     "metadata": {},
     "output_type": "execute_result"
    }
   ],
   "source": [
    "ldf_insulin_data = pd.read_csv(\"../input/meal-data-clustering/InsulinData.csv\", \n",
    "                               encoding='latin', index_col=False)\n",
    "\n",
    "ldf_insulin_data.head()"
   ]
  },
  {
   "cell_type": "markdown",
   "metadata": {
    "papermill": {
     "duration": 0.041117,
     "end_time": "2020-11-21T07:13:26.940717",
     "exception": false,
     "start_time": "2020-11-21T07:13:26.899600",
     "status": "completed"
    },
    "tags": []
   },
   "source": [
    "<br><hr/>"
   ]
  },
  {
   "cell_type": "markdown",
   "metadata": {
    "papermill": {
     "duration": 0.039916,
     "end_time": "2020-11-21T07:13:27.021031",
     "exception": false,
     "start_time": "2020-11-21T07:13:26.981115",
     "status": "completed"
    },
    "tags": []
   },
   "source": [
    "## 3. Data Preprocessing"
   ]
  },
  {
   "cell_type": "markdown",
   "metadata": {
    "papermill": {
     "duration": 0.039821,
     "end_time": "2020-11-21T07:13:27.101982",
     "exception": false,
     "start_time": "2020-11-21T07:13:27.062161",
     "status": "completed"
    },
    "tags": []
   },
   "source": [
    "#### 3.1 Get necessary columns"
   ]
  },
  {
   "cell_type": "code",
   "execution_count": 3,
   "metadata": {
    "execution": {
     "iopub.execute_input": "2020-11-21T07:13:27.191379Z",
     "iopub.status.busy": "2020-11-21T07:13:27.189782Z",
     "iopub.status.idle": "2020-11-21T07:13:27.195413Z",
     "shell.execute_reply": "2020-11-21T07:13:27.194553Z"
    },
    "papermill": {
     "duration": 0.052695,
     "end_time": "2020-11-21T07:13:27.195547",
     "exception": false,
     "start_time": "2020-11-21T07:13:27.142852",
     "status": "completed"
    },
    "tags": []
   },
   "outputs": [],
   "source": [
    "ldf_insulin_data = ldf_insulin_data[[\"Date\",\"Time\",\"BWZ Carb Input (grams)\"]]"
   ]
  },
  {
   "cell_type": "markdown",
   "metadata": {
    "papermill": {
     "duration": 0.040482,
     "end_time": "2020-11-21T07:13:27.276805",
     "exception": false,
     "start_time": "2020-11-21T07:13:27.236323",
     "status": "completed"
    },
    "tags": []
   },
   "source": [
    "#### 3.2 Drop null values"
   ]
  },
  {
   "cell_type": "code",
   "execution_count": 4,
   "metadata": {
    "execution": {
     "iopub.execute_input": "2020-11-21T07:13:27.374367Z",
     "iopub.status.busy": "2020-11-21T07:13:27.373123Z",
     "iopub.status.idle": "2020-11-21T07:13:27.401383Z",
     "shell.execute_reply": "2020-11-21T07:13:27.400353Z"
    },
    "papermill": {
     "duration": 0.084106,
     "end_time": "2020-11-21T07:13:27.401545",
     "exception": false,
     "start_time": "2020-11-21T07:13:27.317439",
     "status": "completed"
    },
    "tags": []
   },
   "outputs": [
    {
     "name": "stdout",
     "output_type": "stream",
     "text": [
      "Original Data: (41435, 3)\n",
      "After dropping null values: (1040, 3)\n"
     ]
    }
   ],
   "source": [
    "print(\"Original Data:\",ldf_insulin_data.shape)\n",
    "\n",
    "# Drop the null values\n",
    "ldf_insulin_data = ldf_insulin_data.dropna()\n",
    "\n",
    "print(\"After dropping null values:\",ldf_insulin_data.shape)"
   ]
  },
  {
   "cell_type": "markdown",
   "metadata": {
    "papermill": {
     "duration": 0.040709,
     "end_time": "2020-11-21T07:13:27.484220",
     "exception": false,
     "start_time": "2020-11-21T07:13:27.443511",
     "status": "completed"
    },
    "tags": []
   },
   "source": [
    "#### 3.3 Feature Scaling\n",
    "It’s an important data preprocessing step for most distance-based machine learning algorithms because it can have a significant impact on the performance of algorithm."
   ]
  },
  {
   "cell_type": "code",
   "execution_count": 5,
   "metadata": {
    "execution": {
     "iopub.execute_input": "2020-11-21T07:13:27.575170Z",
     "iopub.status.busy": "2020-11-21T07:13:27.573086Z",
     "iopub.status.idle": "2020-11-21T07:13:27.579063Z",
     "shell.execute_reply": "2020-11-21T07:13:27.578195Z"
    },
    "papermill": {
     "duration": 0.054013,
     "end_time": "2020-11-21T07:13:27.579199",
     "exception": false,
     "start_time": "2020-11-21T07:13:27.525186",
     "status": "completed"
    },
    "tags": []
   },
   "outputs": [],
   "source": [
    "scaler = StandardScaler()\n",
    "ldf_insulin_data[\"BWZ Carb Input (Scaled)\"] = scaler.fit_transform(ldf_insulin_data['BWZ Carb Input (grams)'].values.reshape(-1, 1))"
   ]
  },
  {
   "cell_type": "markdown",
   "metadata": {
    "papermill": {
     "duration": 0.04104,
     "end_time": "2020-11-21T07:13:27.661947",
     "exception": false,
     "start_time": "2020-11-21T07:13:27.620907",
     "status": "completed"
    },
    "tags": []
   },
   "source": [
    "<br><hr/>"
   ]
  },
  {
   "cell_type": "markdown",
   "metadata": {
    "papermill": {
     "duration": 0.040949,
     "end_time": "2020-11-21T07:13:27.744225",
     "exception": false,
     "start_time": "2020-11-21T07:13:27.703276",
     "status": "completed"
    },
    "tags": []
   },
   "source": [
    "## 4. Statistical Summary"
   ]
  },
  {
   "cell_type": "code",
   "execution_count": 6,
   "metadata": {
    "execution": {
     "iopub.execute_input": "2020-11-21T07:13:27.837809Z",
     "iopub.status.busy": "2020-11-21T07:13:27.836896Z",
     "iopub.status.idle": "2020-11-21T07:13:27.840435Z",
     "shell.execute_reply": "2020-11-21T07:13:27.841073Z"
    },
    "papermill": {
     "duration": 0.051116,
     "end_time": "2020-11-21T07:13:27.841237",
     "exception": false,
     "start_time": "2020-11-21T07:13:27.790121",
     "status": "completed"
    },
    "tags": []
   },
   "outputs": [
    {
     "name": "stdout",
     "output_type": "stream",
     "text": [
      "Number of records: 1040\n"
     ]
    }
   ],
   "source": [
    "print(\"Number of records: \"+str(len(ldf_insulin_data)))"
   ]
  },
  {
   "cell_type": "code",
   "execution_count": 7,
   "metadata": {
    "execution": {
     "iopub.execute_input": "2020-11-21T07:13:27.934631Z",
     "iopub.status.busy": "2020-11-21T07:13:27.933792Z",
     "iopub.status.idle": "2020-11-21T07:13:27.950934Z",
     "shell.execute_reply": "2020-11-21T07:13:27.950171Z"
    },
    "papermill": {
     "duration": 0.06776,
     "end_time": "2020-11-21T07:13:27.951055",
     "exception": false,
     "start_time": "2020-11-21T07:13:27.883295",
     "status": "completed"
    },
    "tags": []
   },
   "outputs": [
    {
     "data": {
      "text/html": [
       "<div>\n",
       "<style scoped>\n",
       "    .dataframe tbody tr th:only-of-type {\n",
       "        vertical-align: middle;\n",
       "    }\n",
       "\n",
       "    .dataframe tbody tr th {\n",
       "        vertical-align: top;\n",
       "    }\n",
       "\n",
       "    .dataframe thead th {\n",
       "        text-align: right;\n",
       "    }\n",
       "</style>\n",
       "<table border=\"1\" class=\"dataframe\">\n",
       "  <thead>\n",
       "    <tr style=\"text-align: right;\">\n",
       "      <th></th>\n",
       "      <th>BWZ Carb Input (grams)</th>\n",
       "      <th>BWZ Carb Input (Scaled)</th>\n",
       "    </tr>\n",
       "  </thead>\n",
       "  <tbody>\n",
       "    <tr>\n",
       "      <th>count</th>\n",
       "      <td>1,040.0000</td>\n",
       "      <td>1,040.0000</td>\n",
       "    </tr>\n",
       "    <tr>\n",
       "      <th>mean</th>\n",
       "      <td>27.8183</td>\n",
       "      <td>0.0000</td>\n",
       "    </tr>\n",
       "    <tr>\n",
       "      <th>std</th>\n",
       "      <td>27.1294</td>\n",
       "      <td>1.0005</td>\n",
       "    </tr>\n",
       "    <tr>\n",
       "      <th>min</th>\n",
       "      <td>0.0000</td>\n",
       "      <td>-1.0259</td>\n",
       "    </tr>\n",
       "    <tr>\n",
       "      <th>25%</th>\n",
       "      <td>0.0000</td>\n",
       "      <td>-1.0259</td>\n",
       "    </tr>\n",
       "    <tr>\n",
       "      <th>50%</th>\n",
       "      <td>21.0000</td>\n",
       "      <td>-0.2514</td>\n",
       "    </tr>\n",
       "    <tr>\n",
       "      <th>75%</th>\n",
       "      <td>45.0000</td>\n",
       "      <td>0.6336</td>\n",
       "    </tr>\n",
       "    <tr>\n",
       "      <th>max</th>\n",
       "      <td>129.0000</td>\n",
       "      <td>3.7314</td>\n",
       "    </tr>\n",
       "  </tbody>\n",
       "</table>\n",
       "</div>"
      ],
      "text/plain": [
       "       BWZ Carb Input (grams)  BWZ Carb Input (Scaled)\n",
       "count              1,040.0000               1,040.0000\n",
       "mean                  27.8183                   0.0000\n",
       "std                   27.1294                   1.0005\n",
       "min                    0.0000                  -1.0259\n",
       "25%                    0.0000                  -1.0259\n",
       "50%                   21.0000                  -0.2514\n",
       "75%                   45.0000                   0.6336\n",
       "max                  129.0000                   3.7314"
      ]
     },
     "execution_count": 7,
     "metadata": {},
     "output_type": "execute_result"
    }
   ],
   "source": [
    "ldf_insulin_data.describe()"
   ]
  },
  {
   "cell_type": "code",
   "execution_count": 8,
   "metadata": {
    "execution": {
     "iopub.execute_input": "2020-11-21T07:13:28.054786Z",
     "iopub.status.busy": "2020-11-21T07:13:28.053921Z",
     "iopub.status.idle": "2020-11-21T07:13:28.058466Z",
     "shell.execute_reply": "2020-11-21T07:13:28.057831Z"
    },
    "papermill": {
     "duration": 0.06388,
     "end_time": "2020-11-21T07:13:28.058593",
     "exception": false,
     "start_time": "2020-11-21T07:13:27.994713",
     "status": "completed"
    },
    "tags": []
   },
   "outputs": [
    {
     "name": "stdout",
     "output_type": "stream",
     "text": [
      "<class 'pandas.core.frame.DataFrame'>\n",
      "Int64Index: 1040 entries, 48 to 41401\n",
      "Data columns (total 4 columns):\n",
      " #   Column                   Non-Null Count  Dtype  \n",
      "---  ------                   --------------  -----  \n",
      " 0   Date                     1040 non-null   object \n",
      " 1   Time                     1040 non-null   object \n",
      " 2   BWZ Carb Input (grams)   1040 non-null   float64\n",
      " 3   BWZ Carb Input (Scaled)  1040 non-null   float64\n",
      "dtypes: float64(2), object(2)\n",
      "memory usage: 40.6+ KB\n"
     ]
    }
   ],
   "source": [
    "ldf_insulin_data.info()"
   ]
  },
  {
   "cell_type": "markdown",
   "metadata": {
    "papermill": {
     "duration": 0.043764,
     "end_time": "2020-11-21T07:13:28.145616",
     "exception": false,
     "start_time": "2020-11-21T07:13:28.101852",
     "status": "completed"
    },
    "tags": []
   },
   "source": [
    "<br><hr/>"
   ]
  },
  {
   "cell_type": "markdown",
   "metadata": {
    "papermill": {
     "duration": 0.043241,
     "end_time": "2020-11-21T07:13:28.232461",
     "exception": false,
     "start_time": "2020-11-21T07:13:28.189220",
     "status": "completed"
    },
    "tags": []
   },
   "source": [
    "## 5. Extracting Ground Truth\n",
    "\n",
    "> 1. Derive the max and min value of meal intake amount from the Y column of the Insulin data. <br/>\n",
    "> 2. Discretize the meal amount in bins of size 20. <br/>\n",
    "> 3. According to their meal amount put them in the respective bins. <br/>\n",
    "> 4. Summary. <br/>\n",
    "\n",
    "In total you should have N = max-min/20  bins."
   ]
  },
  {
   "cell_type": "markdown",
   "metadata": {
    "papermill": {
     "duration": 0.043036,
     "end_time": "2020-11-21T07:13:28.319066",
     "exception": false,
     "start_time": "2020-11-21T07:13:28.276030",
     "status": "completed"
    },
    "tags": []
   },
   "source": [
    "#### 5.1 Derive the max and min value of meal intake amount from the Y - BWZ Carb Input (grams) column of the Insulin data."
   ]
  },
  {
   "cell_type": "code",
   "execution_count": 9,
   "metadata": {
    "execution": {
     "iopub.execute_input": "2020-11-21T07:13:28.416670Z",
     "iopub.status.busy": "2020-11-21T07:13:28.415502Z",
     "iopub.status.idle": "2020-11-21T07:13:28.420983Z",
     "shell.execute_reply": "2020-11-21T07:13:28.419949Z"
    },
    "papermill": {
     "duration": 0.057678,
     "end_time": "2020-11-21T07:13:28.421154",
     "exception": false,
     "start_time": "2020-11-21T07:13:28.363476",
     "status": "completed"
    },
    "tags": []
   },
   "outputs": [
    {
     "name": "stdout",
     "output_type": "stream",
     "text": [
      "Max value of meal intake amount (grams): 129.0\n",
      "Min value of meal intake amount (grams): 0.0\n"
     ]
    }
   ],
   "source": [
    "max_meal_amount = max(ldf_insulin_data['BWZ Carb Input (grams)'])\n",
    "min_meal_amount = min(ldf_insulin_data['BWZ Carb Input (grams)'])\n",
    "\n",
    "print(\"Max value of meal intake amount (grams):\", max_meal_amount)\n",
    "print(\"Min value of meal intake amount (grams):\", min_meal_amount)"
   ]
  },
  {
   "cell_type": "code",
   "execution_count": 10,
   "metadata": {
    "execution": {
     "iopub.execute_input": "2020-11-21T07:13:28.519608Z",
     "iopub.status.busy": "2020-11-21T07:13:28.518457Z",
     "iopub.status.idle": "2020-11-21T07:13:28.523561Z",
     "shell.execute_reply": "2020-11-21T07:13:28.524392Z"
    },
    "papermill": {
     "duration": 0.057411,
     "end_time": "2020-11-21T07:13:28.524566",
     "exception": false,
     "start_time": "2020-11-21T07:13:28.467155",
     "status": "completed"
    },
    "tags": []
   },
   "outputs": [
    {
     "name": "stdout",
     "output_type": "stream",
     "text": [
      "In total you should have N = ( 129.0 - 0.0 / 20) i.e. 7 bins\n"
     ]
    }
   ],
   "source": [
    "number_of_bins = ceil((max_meal_amount-min_meal_amount)/20)\n",
    "print(\"In total you should have N = (\",max_meal_amount,\"-\",min_meal_amount,\"/ 20) i.e.\", number_of_bins, \"bins\")"
   ]
  },
  {
   "cell_type": "markdown",
   "metadata": {
    "papermill": {
     "duration": 0.050431,
     "end_time": "2020-11-21T07:13:28.626492",
     "exception": false,
     "start_time": "2020-11-21T07:13:28.576061",
     "status": "completed"
    },
    "tags": []
   },
   "source": [
    "#### 5.2 Discretize the meal amount in bins of size 20."
   ]
  },
  {
   "cell_type": "code",
   "execution_count": 11,
   "metadata": {
    "execution": {
     "iopub.execute_input": "2020-11-21T07:13:28.739499Z",
     "iopub.status.busy": "2020-11-21T07:13:28.738600Z",
     "iopub.status.idle": "2020-11-21T07:13:28.742973Z",
     "shell.execute_reply": "2020-11-21T07:13:28.742256Z"
    },
    "papermill": {
     "duration": 0.0599,
     "end_time": "2020-11-21T07:13:28.743099",
     "exception": false,
     "start_time": "2020-11-21T07:13:28.683199",
     "status": "completed"
    },
    "tags": []
   },
   "outputs": [],
   "source": [
    "# Define bins\n",
    "ldict_bins = {\n",
    "    1:[0,20],\n",
    "    2:[21,40],\n",
    "    3:[41,60],\n",
    "    4:[61,80],\n",
    "    5:[81,100],\n",
    "    6:[101,120],\n",
    "    7:[121,140]\n",
    "}"
   ]
  },
  {
   "cell_type": "code",
   "execution_count": 12,
   "metadata": {
    "execution": {
     "iopub.execute_input": "2020-11-21T07:13:28.850959Z",
     "iopub.status.busy": "2020-11-21T07:13:28.849879Z",
     "iopub.status.idle": "2020-11-21T07:13:28.857299Z",
     "shell.execute_reply": "2020-11-21T07:13:28.856432Z"
    },
    "papermill": {
     "duration": 0.062922,
     "end_time": "2020-11-21T07:13:28.857434",
     "exception": false,
     "start_time": "2020-11-21T07:13:28.794512",
     "status": "completed"
    },
    "tags": []
   },
   "outputs": [],
   "source": [
    "def get_bin(meal_amount_in_grams):\n",
    "    \"\"\"\n",
    "    This method is used to get appropriate bin bucket \n",
    "    using the bin dictionary defined above.\n",
    "    \"\"\"\n",
    "    lint_bin = 0\n",
    "    for bin_number, bin_range in ldict_bins.items():\n",
    "        if bin_range[0]<=meal_amount_in_grams<=bin_range[1]:\n",
    "            lint_bin = bin_number\n",
    "    return lint_bin"
   ]
  },
  {
   "cell_type": "markdown",
   "metadata": {
    "papermill": {
     "duration": 0.045414,
     "end_time": "2020-11-21T07:13:28.952841",
     "exception": false,
     "start_time": "2020-11-21T07:13:28.907427",
     "status": "completed"
    },
    "tags": []
   },
   "source": [
    "#### 5.3 According to their meal amount put them in the respective bins."
   ]
  },
  {
   "cell_type": "code",
   "execution_count": 13,
   "metadata": {
    "execution": {
     "iopub.execute_input": "2020-11-21T07:13:29.061393Z",
     "iopub.status.busy": "2020-11-21T07:13:29.060225Z",
     "iopub.status.idle": "2020-11-21T07:13:29.063919Z",
     "shell.execute_reply": "2020-11-21T07:13:29.063175Z"
    },
    "papermill": {
     "duration": 0.064013,
     "end_time": "2020-11-21T07:13:29.064051",
     "exception": false,
     "start_time": "2020-11-21T07:13:29.000038",
     "status": "completed"
    },
    "tags": []
   },
   "outputs": [],
   "source": [
    "ldf_insulin_data['Ground Truth'] = ldf_insulin_data['BWZ Carb Input (grams)'].apply(lambda x: get_bin(x))"
   ]
  },
  {
   "cell_type": "markdown",
   "metadata": {
    "papermill": {
     "duration": 0.046993,
     "end_time": "2020-11-21T07:13:29.156889",
     "exception": false,
     "start_time": "2020-11-21T07:13:29.109896",
     "status": "completed"
    },
    "tags": []
   },
   "source": [
    "#### 5.4 Summary"
   ]
  },
  {
   "cell_type": "code",
   "execution_count": 14,
   "metadata": {
    "execution": {
     "iopub.execute_input": "2020-11-21T07:13:29.256533Z",
     "iopub.status.busy": "2020-11-21T07:13:29.254756Z",
     "iopub.status.idle": "2020-11-21T07:13:29.626931Z",
     "shell.execute_reply": "2020-11-21T07:13:29.626282Z"
    },
    "papermill": {
     "duration": 0.424667,
     "end_time": "2020-11-21T07:13:29.627082",
     "exception": false,
     "start_time": "2020-11-21T07:13:29.202415",
     "status": "completed"
    },
    "tags": []
   },
   "outputs": [
    {
     "data": {
      "text/plain": [
       "<matplotlib.axes._subplots.AxesSubplot at 0x7fedebbcbe50>"
      ]
     },
     "execution_count": 14,
     "metadata": {},
     "output_type": "execute_result"
    },
    {
     "data": {
      "image/png": "[encoded data removed]",
      "text/plain": [
       "<Figure size 432x288 with 1 Axes>"
      ]
     },
     "metadata": {},
     "output_type": "display_data"
    }
   ],
   "source": [
    "ldf_insulin_data[\"Ground Truth\"].value_counts().sort_values(ascending=True).plot(kind=\"barh\")"
   ]
  },
  {
   "cell_type": "code",
   "execution_count": 15,
   "metadata": {
    "execution": {
     "iopub.execute_input": "2020-11-21T07:13:29.734548Z",
     "iopub.status.busy": "2020-11-21T07:13:29.733194Z",
     "iopub.status.idle": "2020-11-21T07:13:29.737586Z",
     "shell.execute_reply": "2020-11-21T07:13:29.738195Z"
    },
    "papermill": {
     "duration": 0.064535,
     "end_time": "2020-11-21T07:13:29.738353",
     "exception": false,
     "start_time": "2020-11-21T07:13:29.673818",
     "status": "completed"
    },
    "tags": []
   },
   "outputs": [
    {
     "data": {
      "text/html": [
       "<div>\n",
       "<style scoped>\n",
       "    .dataframe tbody tr th:only-of-type {\n",
       "        vertical-align: middle;\n",
       "    }\n",
       "\n",
       "    .dataframe tbody tr th {\n",
       "        vertical-align: top;\n",
       "    }\n",
       "\n",
       "    .dataframe thead th {\n",
       "        text-align: right;\n",
       "    }\n",
       "</style>\n",
       "<table border=\"1\" class=\"dataframe\">\n",
       "  <thead>\n",
       "    <tr style=\"text-align: right;\">\n",
       "      <th></th>\n",
       "      <th>Date</th>\n",
       "      <th>Time</th>\n",
       "      <th>BWZ Carb Input (grams)</th>\n",
       "      <th>BWZ Carb Input (Scaled)</th>\n",
       "      <th>Ground Truth</th>\n",
       "    </tr>\n",
       "  </thead>\n",
       "  <tbody>\n",
       "    <tr>\n",
       "      <th>48</th>\n",
       "      <td>2/12/2018</td>\n",
       "      <td>9:15:45</td>\n",
       "      <td>34.0000</td>\n",
       "      <td>0.2280</td>\n",
       "      <td>2</td>\n",
       "    </tr>\n",
       "    <tr>\n",
       "      <th>129</th>\n",
       "      <td>2/12/2018</td>\n",
       "      <td>2:30:55</td>\n",
       "      <td>15.0000</td>\n",
       "      <td>-0.4727</td>\n",
       "      <td>1</td>\n",
       "    </tr>\n",
       "    <tr>\n",
       "      <th>149</th>\n",
       "      <td>2/12/2018</td>\n",
       "      <td>0:15:41</td>\n",
       "      <td>0.0000</td>\n",
       "      <td>-1.0259</td>\n",
       "      <td>1</td>\n",
       "    </tr>\n",
       "    <tr>\n",
       "      <th>188</th>\n",
       "      <td>2/11/2018</td>\n",
       "      <td>20:33:18</td>\n",
       "      <td>71.0000</td>\n",
       "      <td>1.5925</td>\n",
       "      <td>4</td>\n",
       "    </tr>\n",
       "    <tr>\n",
       "      <th>202</th>\n",
       "      <td>2/11/2018</td>\n",
       "      <td>19:32:19</td>\n",
       "      <td>0.0000</td>\n",
       "      <td>-1.0259</td>\n",
       "      <td>1</td>\n",
       "    </tr>\n",
       "  </tbody>\n",
       "</table>\n",
       "</div>"
      ],
      "text/plain": [
       "          Date      Time  BWZ Carb Input (grams)  BWZ Carb Input (Scaled)  \\\n",
       "48   2/12/2018   9:15:45                 34.0000                   0.2280   \n",
       "129  2/12/2018   2:30:55                 15.0000                  -0.4727   \n",
       "149  2/12/2018   0:15:41                  0.0000                  -1.0259   \n",
       "188  2/11/2018  20:33:18                 71.0000                   1.5925   \n",
       "202  2/11/2018  19:32:19                  0.0000                  -1.0259   \n",
       "\n",
       "     Ground Truth  \n",
       "48              2  \n",
       "129             1  \n",
       "149             1  \n",
       "188             4  \n",
       "202             1  "
      ]
     },
     "execution_count": 15,
     "metadata": {},
     "output_type": "execute_result"
    }
   ],
   "source": [
    "ldf_insulin_data.head()"
   ]
  },
  {
   "cell_type": "code",
   "execution_count": 16,
   "metadata": {
    "execution": {
     "iopub.execute_input": "2020-11-21T07:13:29.869402Z",
     "iopub.status.busy": "2020-11-21T07:13:29.868094Z",
     "iopub.status.idle": "2020-11-21T07:13:29.875783Z",
     "shell.execute_reply": "2020-11-21T07:13:29.874940Z"
    },
    "papermill": {
     "duration": 0.082026,
     "end_time": "2020-11-21T07:13:29.875926",
     "exception": false,
     "start_time": "2020-11-21T07:13:29.793900",
     "status": "completed"
    },
    "tags": []
   },
   "outputs": [
    {
     "data": {
      "text/plain": [
       "array([2, 1, 1, 4, 1])"
      ]
     },
     "execution_count": 16,
     "metadata": {},
     "output_type": "execute_result"
    }
   ],
   "source": [
    "ldf_insulin_data['Ground Truth'].values[:5]"
   ]
  },
  {
   "cell_type": "markdown",
   "metadata": {
    "papermill": {
     "duration": 0.048511,
     "end_time": "2020-11-21T07:13:29.978970",
     "exception": false,
     "start_time": "2020-11-21T07:13:29.930459",
     "status": "completed"
    },
    "tags": []
   },
   "source": [
    "<br><hr/>"
   ]
  },
  {
   "cell_type": "markdown",
   "metadata": {
    "papermill": {
     "duration": 0.048011,
     "end_time": "2020-11-21T07:13:30.074787",
     "exception": false,
     "start_time": "2020-11-21T07:13:30.026776",
     "status": "completed"
    },
    "tags": []
   },
   "source": [
    "## 6. Perform clustering\n",
    "\n",
    "> 1. Feature Selection. <br/>\n",
    "> 2. Methods to calculate accuracy based on SSE, entropy and purity metrics\n",
    "> 2. KMeans Clustering. <br/>\n",
    "> 3. DBSCAN Clustering. <br/>\n",
    "> 4. Accuracy report"
   ]
  },
  {
   "cell_type": "markdown",
   "metadata": {
    "papermill": {
     "duration": 0.047353,
     "end_time": "2020-11-21T07:13:30.170333",
     "exception": false,
     "start_time": "2020-11-21T07:13:30.122980",
     "status": "completed"
    },
    "tags": []
   },
   "source": [
    "#### 6.1 Feature Selection"
   ]
  },
  {
   "cell_type": "code",
   "execution_count": 17,
   "metadata": {
    "execution": {
     "iopub.execute_input": "2020-11-21T07:13:30.271727Z",
     "iopub.status.busy": "2020-11-21T07:13:30.270828Z",
     "iopub.status.idle": "2020-11-21T07:13:30.274169Z",
     "shell.execute_reply": "2020-11-21T07:13:30.273477Z"
    },
    "papermill": {
     "duration": 0.056453,
     "end_time": "2020-11-21T07:13:30.274294",
     "exception": false,
     "start_time": "2020-11-21T07:13:30.217841",
     "status": "completed"
    },
    "tags": []
   },
   "outputs": [],
   "source": [
    "X = ldf_insulin_data[\"BWZ Carb Input (Scaled)\"].values.reshape(-1,1)"
   ]
  },
  {
   "cell_type": "markdown",
   "metadata": {
    "papermill": {
     "duration": 0.049597,
     "end_time": "2020-11-21T07:13:30.372026",
     "exception": false,
     "start_time": "2020-11-21T07:13:30.322429",
     "status": "completed"
    },
    "tags": []
   },
   "source": [
    "#### 6.2 Methods to calculate accuracy based on SSE, entropy and purity metrics"
   ]
  },
  {
   "cell_type": "code",
   "execution_count": 18,
   "metadata": {
    "execution": {
     "iopub.execute_input": "2020-11-21T07:13:30.567885Z",
     "iopub.status.busy": "2020-11-21T07:13:30.567077Z",
     "iopub.status.idle": "2020-11-21T07:13:30.570665Z",
     "shell.execute_reply": "2020-11-21T07:13:30.569882Z"
    },
    "papermill": {
     "duration": 0.150813,
     "end_time": "2020-11-21T07:13:30.570806",
     "exception": false,
     "start_time": "2020-11-21T07:13:30.419993",
     "status": "completed"
    },
    "tags": []
   },
   "outputs": [],
   "source": [
    "def calculate_entropy(y_true, y_pred, base = 2):\n",
    "    \"\"\"\n",
    "    \"\"\"\n",
    "    contingency_matrix = cluster.contingency_matrix(y_true, y_pred)\n",
    "    base = e if base is None else base\n",
    "    \n",
    "    Entropy = []\n",
    "\n",
    "    for i in range(0, len(contingency_matrix)):\n",
    "        p = contingency_matrix[i,:]\n",
    "        p = pd.Series(p).value_counts(normalize=True, sort=False)\n",
    "        Entropy.append((-p/p.sum() * np.log(p/p.sum())/np.log(2)).sum())\n",
    "    \n",
    "    TotalP = sum(contingency_matrix,1);\n",
    "    WholeEntropy = 0;\n",
    "\n",
    "    for i in range(0, len(contingency_matrix)):\n",
    "        p = contingency_matrix[i,:]\n",
    "        WholeEntropy = WholeEntropy + ((sum(p))/(sum(TotalP)))*Entropy[i]\n",
    "    \n",
    "    return WholeEntropy"
   ]
  },
  {
   "cell_type": "code",
   "execution_count": 19,
   "metadata": {
    "execution": {
     "iopub.execute_input": "2020-11-21T07:13:30.679035Z",
     "iopub.status.busy": "2020-11-21T07:13:30.677921Z",
     "iopub.status.idle": "2020-11-21T07:13:30.681698Z",
     "shell.execute_reply": "2020-11-21T07:13:30.680945Z"
    },
    "papermill": {
     "duration": 0.062789,
     "end_time": "2020-11-21T07:13:30.681831",
     "exception": false,
     "start_time": "2020-11-21T07:13:30.619042",
     "status": "completed"
    },
    "tags": []
   },
   "outputs": [],
   "source": [
    "def calculate_purity_score(y_true, y_pred):\n",
    "    \"\"\"\n",
    "    Purity is an external evaluation criterion of cluster quality. \n",
    "    It is the percent of the total number of objects(data points) that were classified correctly.\n",
    "    \"\"\"\n",
    "    # compute contingency matrix (also called confusion matrix)\n",
    "    contingency_matrix = cluster.contingency_matrix(y_true, y_pred)\n",
    "\n",
    "    Purity = []\n",
    "\n",
    "    for i in range(0, len(contingency_matrix)):\n",
    "        p = contingency_matrix[i,:]\n",
    "        Purity.append(p.max()/p.sum())\n",
    "\n",
    "    TotalP = sum(contingency_matrix,1);\n",
    "    WholePurity = 0;\n",
    "\n",
    "    for i in range(0, len(contingency_matrix)):\n",
    "        p = contingency_matrix[i,:]\n",
    "        WholePurity = WholePurity + ((sum(p))/(sum(TotalP)))*Purity[i]\n",
    "    \n",
    "    return WholePurity"
   ]
  },
  {
   "cell_type": "code",
   "execution_count": 20,
   "metadata": {
    "execution": {
     "iopub.execute_input": "2020-11-21T07:13:30.787769Z",
     "iopub.status.busy": "2020-11-21T07:13:30.786686Z",
     "iopub.status.idle": "2020-11-21T07:13:30.789767Z",
     "shell.execute_reply": "2020-11-21T07:13:30.790298Z"
    },
    "papermill": {
     "duration": 0.059233,
     "end_time": "2020-11-21T07:13:30.790460",
     "exception": false,
     "start_time": "2020-11-21T07:13:30.731227",
     "status": "completed"
    },
    "tags": []
   },
   "outputs": [],
   "source": [
    "def calculate_v_measure_score(y_true, y_pred):\n",
    "    \"\"\"\n",
    "    This metric is independent of the absolute values of the labels: \n",
    "    a permutation of the class or cluster label values won’t change the score value in any way.\n",
    "    \"\"\"\n",
    "    return v_measure_score(y_true, y_pred)"
   ]
  },
  {
   "cell_type": "markdown",
   "metadata": {
    "papermill": {
     "duration": 0.048727,
     "end_time": "2020-11-21T07:13:30.888118",
     "exception": false,
     "start_time": "2020-11-21T07:13:30.839391",
     "status": "completed"
    },
    "tags": []
   },
   "source": [
    "<hr/>"
   ]
  },
  {
   "cell_type": "markdown",
   "metadata": {
    "papermill": {
     "duration": 0.049319,
     "end_time": "2020-11-21T07:13:30.986827",
     "exception": false,
     "start_time": "2020-11-21T07:13:30.937508",
     "status": "completed"
    },
    "tags": []
   },
   "source": [
    "#### 6.3 KMeans Clustering<br/>\n",
    "K-Means cluster is one of the most commonly used unsupervised machine learning clustering techniques. It is a centroid based clustering technique that needs you decide the number of clusters (centroids) and randomly places the cluster centroids to begin the clustering process. The goal is to divide N observations into K clusters repeatedly until no more groups can be formed.\n",
    "\n",
    "##### Advantages of K-Means\n",
    "1. Easy to understand and implement.\n",
    "2. Can handle large datasets well.\n",
    "\n",
    "##### Disadvantages of K-Means\n",
    "1. Sensitive to number of clusters/centroids chosen. Even after using techniques like Elbow method, it is sometimes hard to generate good clusters.\n",
    "2. Does not work well with outliers. Centroids can get dragged by the outliers resulting in skewed clusters.\n",
    "3. Gets difficult in high dimensional spaces as the distance between the points increases and Euclidean distance diverges (converges to a constant value).\n",
    "4. Gets slow as the number of dimensions increases."
   ]
  },
  {
   "cell_type": "code",
   "execution_count": 21,
   "metadata": {
    "execution": {
     "iopub.execute_input": "2020-11-21T07:13:31.090427Z",
     "iopub.status.busy": "2020-11-21T07:13:31.089538Z",
     "iopub.status.idle": "2020-11-21T07:13:31.166988Z",
     "shell.execute_reply": "2020-11-21T07:13:31.167718Z"
    },
    "papermill": {
     "duration": 0.132858,
     "end_time": "2020-11-21T07:13:31.167905",
     "exception": false,
     "start_time": "2020-11-21T07:13:31.035047",
     "status": "completed"
    },
    "tags": []
   },
   "outputs": [],
   "source": [
    "# Define a model\n",
    "kmeans = KMeans(n_clusters=7, random_state=42, max_iter=100)\n",
    "\n",
    "# Fit a model\n",
    "kmeans_model = kmeans.fit(X)"
   ]
  },
  {
   "cell_type": "code",
   "execution_count": 22,
   "metadata": {
    "execution": {
     "iopub.execute_input": "2020-11-21T07:13:31.294026Z",
     "iopub.status.busy": "2020-11-21T07:13:31.293140Z",
     "iopub.status.idle": "2020-11-21T07:13:31.330830Z",
     "shell.execute_reply": "2020-11-21T07:13:31.332163Z"
    },
    "papermill": {
     "duration": 0.105104,
     "end_time": "2020-11-21T07:13:31.332486",
     "exception": false,
     "start_time": "2020-11-21T07:13:31.227382",
     "status": "completed"
    },
    "tags": []
   },
   "outputs": [
    {
     "name": "stdout",
     "output_type": "stream",
     "text": [
      "The SSE value:\n",
      "22.112587520020924\n",
      "\n",
      "The number of iterations required to converge:\n",
      "9\n",
      "\n",
      "Silhouette Score (A higher silhouette coefficient suggests better clusters):\n",
      "0.68\n"
     ]
    }
   ],
   "source": [
    "# The SSE value\n",
    "print(\"The SSE value:\\n\"+ str(kmeans.inertia_))\n",
    "\n",
    "# The number of iterations required to converge\n",
    "print(\"\\nThe number of iterations required to converge:\\n\"+str(kmeans.n_iter_))\n",
    "\n",
    "# Compute the silhouette scores\n",
    "kmeans_silhouette = silhouette_score(\n",
    "    X, kmeans.labels_\n",
    ").round(2)\n",
    "\n",
    "print(\"\\nSilhouette Score (A higher silhouette coefficient suggests better clusters):\\n\"+str(kmeans_silhouette))"
   ]
  },
  {
   "cell_type": "code",
   "execution_count": 23,
   "metadata": {
    "execution": {
     "iopub.execute_input": "2020-11-21T07:13:31.445103Z",
     "iopub.status.busy": "2020-11-21T07:13:31.444153Z",
     "iopub.status.idle": "2020-11-21T07:13:31.449253Z",
     "shell.execute_reply": "2020-11-21T07:13:31.448474Z"
    },
    "papermill": {
     "duration": 0.062251,
     "end_time": "2020-11-21T07:13:31.449392",
     "exception": false,
     "start_time": "2020-11-21T07:13:31.387141",
     "status": "completed"
    },
    "tags": []
   },
   "outputs": [
    {
     "data": {
      "text/plain": [
       "array([2, 1, 6, 5, 6], dtype=int32)"
      ]
     },
     "execution_count": 23,
     "metadata": {},
     "output_type": "execute_result"
    }
   ],
   "source": [
    "kmeans.labels_[:5]"
   ]
  },
  {
   "cell_type": "markdown",
   "metadata": {
    "papermill": {
     "duration": 0.050529,
     "end_time": "2020-11-21T07:13:31.550396",
     "exception": false,
     "start_time": "2020-11-21T07:13:31.499867",
     "status": "completed"
    },
    "tags": []
   },
   "source": [
    "Note that the order of the cluster labels are flipped. The order was [2, 1, 1, 4, 1] in true_labels but [2, 1, 6, 5, 6] in kmeans.labels_ even though those data objects are still members of their original clusters in kmeans.lables_.\n",
    "\n",
    "This behavior is normal, as the ordering of cluster labels is dependent on the initialization. Cluster 0 from the first run could be labeled cluster 1 in the second run and vice versa. This doesn’t affect clustering evaluation metrics."
   ]
  },
  {
   "cell_type": "code",
   "execution_count": 24,
   "metadata": {
    "execution": {
     "iopub.execute_input": "2020-11-21T07:13:31.656759Z",
     "iopub.status.busy": "2020-11-21T07:13:31.655832Z",
     "iopub.status.idle": "2020-11-21T07:13:31.666346Z",
     "shell.execute_reply": "2020-11-21T07:13:31.667144Z"
    },
    "papermill": {
     "duration": 0.066552,
     "end_time": "2020-11-21T07:13:31.667337",
     "exception": false,
     "start_time": "2020-11-21T07:13:31.600785",
     "status": "completed"
    },
    "tags": []
   },
   "outputs": [],
   "source": [
    "# Create a column of K-means Prediction\n",
    "ldf_insulin_data['KmeanCluster'] = kmeans_model.predict(X)"
   ]
  },
  {
   "cell_type": "code",
   "execution_count": 25,
   "metadata": {
    "execution": {
     "iopub.execute_input": "2020-11-21T07:13:31.801465Z",
     "iopub.status.busy": "2020-11-21T07:13:31.800507Z",
     "iopub.status.idle": "2020-11-21T07:13:31.825001Z",
     "shell.execute_reply": "2020-11-21T07:13:31.825751Z"
    },
    "papermill": {
     "duration": 0.097457,
     "end_time": "2020-11-21T07:13:31.825948",
     "exception": false,
     "start_time": "2020-11-21T07:13:31.728491",
     "status": "completed"
    },
    "tags": []
   },
   "outputs": [],
   "source": [
    "# Calculate accuracy using entropy, purity_score, & v-measure score\n",
    "kmean_entropy = calculate_entropy(ldf_insulin_data['Ground Truth'],ldf_insulin_data['KmeanCluster'])\n",
    "kmean_purity_score = calculate_purity_score(ldf_insulin_data['Ground Truth'],ldf_insulin_data['KmeanCluster'])\n",
    "kmean_v_measure_score = calculate_v_measure_score(ldf_insulin_data['Ground Truth'], ldf_insulin_data['KmeanCluster'])"
   ]
  },
  {
   "cell_type": "markdown",
   "metadata": {
    "papermill": {
     "duration": 0.049849,
     "end_time": "2020-11-21T07:13:31.931047",
     "exception": false,
     "start_time": "2020-11-21T07:13:31.881198",
     "status": "completed"
    },
    "tags": []
   },
   "source": [
    "<hr/>"
   ]
  },
  {
   "cell_type": "markdown",
   "metadata": {
    "papermill": {
     "duration": 0.049991,
     "end_time": "2020-11-21T07:13:32.033404",
     "exception": false,
     "start_time": "2020-11-21T07:13:31.983413",
     "status": "completed"
    },
    "tags": []
   },
   "source": [
    "#### 6.4 DBSCAN Clustering<br/>\n",
    "DBSCAN is a density-based clustering algorithm that forms clusters of dense regions of data points ignoring the low-density areas (considering them as noise).\n",
    "\n",
    "##### Advantages of DBSCAN\n",
    "* Works well for noisy datasets.\n",
    "* Can identity Outliers easily.\n",
    "* Clusters can take any irregular shape unlike K-Means where clusters are more or less spherical.\n",
    "\n",
    "##### Disadvantages of DBSCAN\n",
    "* Does not work very well for sparse datasets or datasets with varying density.\n",
    "* Sensitive to eps and minPts parameters.\n",
    "* Not partitionable for multiprocessor systems."
   ]
  },
  {
   "cell_type": "code",
   "execution_count": 26,
   "metadata": {
    "execution": {
     "iopub.execute_input": "2020-11-21T07:13:32.143781Z",
     "iopub.status.busy": "2020-11-21T07:13:32.142699Z",
     "iopub.status.idle": "2020-11-21T07:13:32.156838Z",
     "shell.execute_reply": "2020-11-21T07:13:32.155956Z"
    },
    "papermill": {
     "duration": 0.073543,
     "end_time": "2020-11-21T07:13:32.156973",
     "exception": false,
     "start_time": "2020-11-21T07:13:32.083430",
     "status": "completed"
    },
    "tags": []
   },
   "outputs": [],
   "source": [
    "# Define a model\n",
    "dbscan = DBSCAN(eps=0.3)\n",
    "\n",
    "# Fit a model\n",
    "dbscan_model = dbscan.fit(X)"
   ]
  },
  {
   "cell_type": "code",
   "execution_count": 27,
   "metadata": {
    "execution": {
     "iopub.execute_input": "2020-11-21T07:13:32.265522Z",
     "iopub.status.busy": "2020-11-21T07:13:32.264327Z",
     "iopub.status.idle": "2020-11-21T07:13:32.293177Z",
     "shell.execute_reply": "2020-11-21T07:13:32.293815Z"
    },
    "papermill": {
     "duration": 0.086348,
     "end_time": "2020-11-21T07:13:32.293976",
     "exception": false,
     "start_time": "2020-11-21T07:13:32.207628",
     "status": "completed"
    },
    "tags": []
   },
   "outputs": [
    {
     "name": "stdout",
     "output_type": "stream",
     "text": [
      "Silhouette Score (A higher silhouette coefficient suggests better clusters):\n",
      "0.65\n"
     ]
    }
   ],
   "source": [
    "# Compute the silhouette scores\n",
    "dbscan_silhouette = silhouette_score(\n",
    "    X, dbscan_model.labels_\n",
    ").round(2)\n",
    "\n",
    "print(\"Silhouette Score (A higher silhouette coefficient suggests better clusters):\\n\"+str(dbscan_silhouette))"
   ]
  },
  {
   "cell_type": "code",
   "execution_count": 28,
   "metadata": {
    "execution": {
     "iopub.execute_input": "2020-11-21T07:13:32.403527Z",
     "iopub.status.busy": "2020-11-21T07:13:32.402400Z",
     "iopub.status.idle": "2020-11-21T07:13:32.414952Z",
     "shell.execute_reply": "2020-11-21T07:13:32.415520Z"
    },
    "papermill": {
     "duration": 0.070709,
     "end_time": "2020-11-21T07:13:32.415717",
     "exception": false,
     "start_time": "2020-11-21T07:13:32.345008",
     "status": "completed"
    },
    "tags": []
   },
   "outputs": [],
   "source": [
    "# Create a column of DBSCAN Prediction\n",
    "ldf_insulin_data['DBSCAN_Cluster'] = dbscan_model.fit_predict(X)"
   ]
  },
  {
   "cell_type": "code",
   "execution_count": 29,
   "metadata": {
    "execution": {
     "iopub.execute_input": "2020-11-21T07:13:32.525350Z",
     "iopub.status.busy": "2020-11-21T07:13:32.524539Z",
     "iopub.status.idle": "2020-11-21T07:13:32.546972Z",
     "shell.execute_reply": "2020-11-21T07:13:32.546109Z"
    },
    "papermill": {
     "duration": 0.080152,
     "end_time": "2020-11-21T07:13:32.547118",
     "exception": false,
     "start_time": "2020-11-21T07:13:32.466966",
     "status": "completed"
    },
    "tags": []
   },
   "outputs": [],
   "source": [
    "# Calculate accuracy using entropy, purity_score, & v-measure score\n",
    "dbscan_entropy = calculate_entropy(ldf_insulin_data['Ground Truth'],ldf_insulin_data['DBSCAN_Cluster'])\n",
    "dbscan_purity_score = calculate_purity_score(ldf_insulin_data['Ground Truth'],ldf_insulin_data['DBSCAN_Cluster'])\n",
    "dbscan_v_measure_score = calculate_v_measure_score(ldf_insulin_data['Ground Truth'], ldf_insulin_data['DBSCAN_Cluster'])"
   ]
  },
  {
   "cell_type": "markdown",
   "metadata": {
    "papermill": {
     "duration": 0.051018,
     "end_time": "2020-11-21T07:13:32.649620",
     "exception": false,
     "start_time": "2020-11-21T07:13:32.598602",
     "status": "completed"
    },
    "tags": []
   },
   "source": [
    "<hr/>"
   ]
  },
  {
   "cell_type": "markdown",
   "metadata": {
    "papermill": {
     "duration": 0.051025,
     "end_time": "2020-11-21T07:13:32.751966",
     "exception": false,
     "start_time": "2020-11-21T07:13:32.700941",
     "status": "completed"
    },
    "tags": []
   },
   "source": [
    "#### 6.5 Accuracy report"
   ]
  },
  {
   "cell_type": "code",
   "execution_count": 30,
   "metadata": {
    "execution": {
     "iopub.execute_input": "2020-11-21T07:13:32.868038Z",
     "iopub.status.busy": "2020-11-21T07:13:32.866956Z",
     "iopub.status.idle": "2020-11-21T07:13:32.870770Z",
     "shell.execute_reply": "2020-11-21T07:13:32.871560Z"
    },
    "papermill": {
     "duration": 0.067298,
     "end_time": "2020-11-21T07:13:32.871781",
     "exception": false,
     "start_time": "2020-11-21T07:13:32.804483",
     "status": "completed"
    },
    "tags": []
   },
   "outputs": [
    {
     "name": "stdout",
     "output_type": "stream",
     "text": [
      "Accuracy report\n",
      "\n",
      "+---------------+-------+-----------------+---------+----------------+\n",
      "|               |  SSE  | V-Measure Score | Entropy | Purity Metrics |\n",
      "+---------------+-------+-----------------+---------+----------------+\n",
      "| K-means (K=7) | 22.11 |       0.65      |   1.39  |      0.61      |\n",
      "|        DBSCAN |   -   |       0.01      |   1.00  |      1.00      |\n",
      "+---------------+-------+-----------------+---------+----------------+\n"
     ]
    }
   ],
   "source": [
    "Model_Accuracy = PrettyTable()\n",
    "Model_Accuracy.field_names = [\"\",\"SSE\",\"V-Measure Score\", \"Entropy\", \"Purity Metrics\"]\n",
    "Model_Accuracy.align[\"\"] = \"r\"\n",
    "Model_Accuracy.add_row([\"K-means (K=7)\",\"%.2f\"%kmeans.inertia_,\"%.2f\"%kmean_v_measure_score,\"%.2f\"%kmean_entropy,\"%.2f\"%kmean_purity_score])\n",
    "Model_Accuracy.add_row([\"DBSCAN\",\"-\",\"%.2f\"%dbscan_v_measure_score,\"%.2f\"%dbscan_entropy,\"%.2f\"%dbscan_purity_score])\n",
    "print(\"Accuracy report\\n\")\n",
    "print(Model_Accuracy)"
   ]
  },
  {
   "cell_type": "markdown",
   "metadata": {
    "papermill": {
     "duration": 0.052617,
     "end_time": "2020-11-21T07:13:32.977253",
     "exception": false,
     "start_time": "2020-11-21T07:13:32.924636",
     "status": "completed"
    },
    "tags": []
   },
   "source": [
    "##### Export Result.csv"
   ]
  },
  {
   "cell_type": "code",
   "execution_count": 31,
   "metadata": {
    "execution": {
     "iopub.execute_input": "2020-11-21T07:13:33.091590Z",
     "iopub.status.busy": "2020-11-21T07:13:33.090777Z",
     "iopub.status.idle": "2020-11-21T07:13:33.383940Z",
     "shell.execute_reply": "2020-11-21T07:13:33.383124Z"
    },
    "papermill": {
     "duration": 0.354979,
     "end_time": "2020-11-21T07:13:33.384080",
     "exception": false,
     "start_time": "2020-11-21T07:13:33.029101",
     "status": "completed"
    },
    "tags": []
   },
   "outputs": [],
   "source": [
    "ldct_result = {}\n",
    "\n",
    "ldct_result['SSE for Kmeans'] =  \"%.2f\"%kmeans.inertia_\n",
    "ldct_result['SSE for DBSCAN'] =  \"-\"\n",
    "ldct_result['Entropy for Kmeans'] =  \"%.2f\"%kmean_entropy\n",
    "ldct_result['Entropy for DBSCAN'] =  \"%.2f\"%dbscan_entropy\n",
    "ldct_result['Purity for K means'] =  \"%.2f\"%kmean_purity_score\n",
    "ldct_result['Purity for DBSCAN'] =  \"%.2f\"%dbscan_purity_score\n",
    "\n",
    "ldf_result = pd.DataFrame(ldct_result, index=[0])\n",
    "ldf_result.to_csv('Result.csv',index=False)"
   ]
  },
  {
   "cell_type": "markdown",
   "metadata": {
    "papermill": {
     "duration": 0.05175,
     "end_time": "2020-11-21T07:13:33.488183",
     "exception": false,
     "start_time": "2020-11-21T07:13:33.436433",
     "status": "completed"
    },
    "tags": []
   },
   "source": [
    "<br><hr/>"
   ]
  },
  {
   "cell_type": "markdown",
   "metadata": {
    "papermill": {
     "duration": 0.052019,
     "end_time": "2020-11-21T07:13:33.592144",
     "exception": false,
     "start_time": "2020-11-21T07:13:33.540125",
     "status": "completed"
    },
    "tags": []
   },
   "source": [
    "<center><h1>End Here</h1></center>"
   ]
  }
 ],
 "metadata": {
  "kernelspec": {
   "display_name": "Python 3",
   "language": "python",
   "name": "python3"
  },
  "language_info": {
   "codemirror_mode": {
    "name": "ipython",
    "version": 3
   },
   "file_extension": ".py",
   "mimetype": "text/x-python",
   "name": "python",
   "nbconvert_exporter": "python",
   "pygments_lexer": "ipython3",
   "version": "3.7.6"
  },
  "papermill": {
   "duration": 13.906954,
   "end_time": "2020-11-21T07:13:33.757567",
   "environment_variables": {},
   "exception": null,
   "input_path": "__notebook__.ipynb",
   "output_path": "__notebook__.ipynb",
   "parameters": {},
   "start_time": "2020-11-21T07:13:19.850613",
   "version": "2.1.0"
  }
 },
 "nbformat": 4,
 "nbformat_minor": 4
}
